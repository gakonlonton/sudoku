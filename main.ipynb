{
 "cells": [
  {
   "cell_type": "code",
   "execution_count": null,
   "metadata": {},
   "outputs": [],
   "source": [
    "import pygame as pg\n",
    "\n",
    "pg.init()"
   ]
  },
  {
   "cell_type": "code",
   "execution_count": null,
   "id": "fba2f590",
   "metadata": {},
   "outputs": [],
   "source": [
    "screen = pg.display.set_mode((500, 500))\n",
    "pg.display.set_caption(\"Sudoku\")"
   ]
  }
 ],
 "metadata": {
  "kernelspec": {
   "display_name": "myenv",
   "language": "python",
   "name": "python3"
  },
  "language_info": {
   "name": "python",
   "version": "3.9.16"
  }
 },
 "nbformat": 4,
 "nbformat_minor": 5
}
