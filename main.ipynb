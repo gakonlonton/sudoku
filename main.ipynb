{
 "cells": [
  {
   "cell_type": "code",
   "execution_count": 151,
   "metadata": {},
   "outputs": [
    {
     "data": {
      "text/plain": [
       "(5, 0)"
      ]
     },
     "execution_count": 151,
     "metadata": {},
     "output_type": "execute_result"
    }
   ],
   "source": [
    "import pygame as pg\n",
    "\n",
    "pg.init()"
   ]
  },
  {
   "cell_type": "code",
   "execution_count": 152,
   "id": "fba2f590",
   "metadata": {},
   "outputs": [],
   "source": [
    "screen = pg.display.set_mode((501, 501))\n",
    "pg.display.set_caption(\"Sudoku\")\n",
    "\n",
    "x = 0\n",
    "y = 0\n",
    "diff = 501 / 9\n",
    "value = 0\n",
    "default_grid = [\n",
    "    [0, 0, 4, 0, 6, 0, 0, 0, 5],\n",
    "    [7, 8, 0, 4, 0, 0, 0, 2, 0],\n",
    "    [0, 0, 2, 6, 0, 1, 0, 7, 8],\n",
    "    [6, 1, 0, 0, 7, 5, 0, 0, 9],\n",
    "    [0, 0, 7, 5, 4, 0, 0, 6, 1],\n",
    "    [0, 0, 1, 7, 5, 0, 9, 3, 0],\n",
    "    [0, 7, 0, 3, 0, 0, 0, 1, 0],\n",
    "    [0, 4, 0, 2, 0, 6, 0, 0, 7],\n",
    "    [0, 2, 0, 0, 0, 7, 4, 0, 0],\n",
    "]\n",
    "\n",
    "font = pg.font.SysFont(\"georgia\", 32)"
   ]
  },
  {
   "cell_type": "code",
   "execution_count": 153,
   "id": "caaafe4b",
   "metadata": {},
   "outputs": [],
   "source": [
    "def cordinates(pos):\n",
    "    global x, y\n",
    "    x = pos[0] // diff\n",
    "    y = pos[1] // diff"
   ]
  },
  {
   "cell_type": "code",
   "execution_count": 154,
   "id": "298cd318",
   "metadata": {},
   "outputs": [],
   "source": [
    "def fill_value(value):\n",
    "    text = font.render(str(value), 1, (0, 0, 0))\n",
    "    screen.blit(text, (x * diff + 17, y * diff + 7))"
   ]
  },
  {
   "cell_type": "code",
   "execution_count": 155,
   "id": "f5f238ce",
   "metadata": {},
   "outputs": [],
   "source": [
    "def raise_error():\n",
    "    text_out = font.render(\"Wrong\", 1, (0, 0, 0))\n",
    "    screen.blit(text_out, (20, 570))\n",
    "\n",
    "def detect_error(m, cx, cy, value):\n",
    "    for i in range(9):\n",
    "        if m[cx][i] == value:\n",
    "            return False\n",
    "        if m[i][cy] == value:\n",
    "            return False\n",
    "    i = cx // 3\n",
    "    j = cy // 3\n",
    "    for k in range(i * 3, i * 3 + 3):\n",
    "        for l in range(j * 3, j * 3 + 3):\n",
    "            if m[k][l] == value:\n",
    "                return False\n",
    "    return True"
   ]
  },
  {
   "cell_type": "code",
   "execution_count": 156,
   "id": "b28a2966",
   "metadata": {},
   "outputs": [],
   "source": [
    "def draw_lines():\n",
    "    for i in range(9):\n",
    "        for j in range(9):\n",
    "            if default_grid[i][j] != 0:\n",
    "                pg.draw.rect(screen, (135, 206, 235), (i * diff, j * diff, diff + 1, diff + 1))\n",
    "                text = font.render(str(default_grid[i][j]), 1, (0, 0, 0))\n",
    "                screen.blit(text, (i * diff + 17, j * diff + 7))\n",
    "        for k in range(10):\n",
    "            if k % 3 == 0:\n",
    "                thick = 3\n",
    "            else:\n",
    "                thick = 1\n",
    "            pg.draw.line(screen, (0, 0, 0), (0, k * diff), (500, k * diff), thick)\n",
    "            pg.draw.line(screen, (0, 0, 0), (k * diff, 0), (k * diff, 500), thick)"
   ]
  },
  {
   "cell_type": "code",
   "execution_count": 157,
   "id": "95f26391",
   "metadata": {},
   "outputs": [],
   "source": [
    "def highlight_box():\n",
    "    for i in range(2):\n",
    "        pg.draw.line(screen, (255, 0, 0), (x * diff - 3, (y + i) * diff), ((x + 1) * diff + 3, (y + i) * diff), 3)\n",
    "        pg.draw.line(screen, (255, 0, 0), ((x + i) * diff, y * diff), ((x + i) * diff, (y + 1) * diff), 3)"
   ]
  },
  {
   "cell_type": "code",
   "execution_count": 158,
   "id": "12c366bd",
   "metadata": {},
   "outputs": [],
   "source": [
    "def can_solve(grid, i, j):\n",
    "    while grid[i][j] != 0:\n",
    "        if i < 8:\n",
    "            i += 1\n",
    "        elif i == 8 and j < 8:\n",
    "            i = 0\n",
    "            j += 1\n",
    "        elif i == 8 and j == 8:\n",
    "            return True\n",
    "    pg.event.pump()\n",
    "    for it in range(1, 10):\n",
    "        if detect_error(grid, i, j, it) == True:\n",
    "            grid[i][j] = it\n",
    "            global x, y\n",
    "            x = i\n",
    "            y = j\n",
    "            screen.fill((255, 255, 255))\n",
    "            draw_lines()\n",
    "            highlight_box()\n",
    "            pg.display.update()\n",
    "            pg.time.delay(50)\n",
    "    return False       "
   ]
  },
  {
   "cell_type": "code",
   "execution_count": 159,
   "id": "b6f16cf6",
   "metadata": {},
   "outputs": [],
   "source": [
    "def game_result():\n",
    "    text_out = font.render(\"game finished\", 1, (0, 0, 0))\n",
    "    screen.blit(text_out, (20, 570)) "
   ]
  },
  {
   "cell_type": "code",
   "execution_count": 160,
   "id": "799e6afe",
   "metadata": {},
   "outputs": [],
   "source": [
    "flag = True\n",
    "enter_flag = False\n",
    "return_flag = False\n",
    "result = 0\n",
    "error = 0\n",
    "while flag:\n",
    "    screen.fill((255, 255, 255))\n",
    "    for event in pg.event.get():\n",
    "        if event.type == pg.QUIT:\n",
    "            flag = False\n",
    "        if event.type == pg.MOUSEBUTTONDOWN:\n",
    "            enter_flag = True\n",
    "            pos = pg.mouse.get_pos()\n",
    "            cordinates(pos)\n",
    "        if event.type == pg.KEYDOWN:\n",
    "            # enter arrow\n",
    "            if event.key == pg.K_LEFT:\n",
    "                x -= 1\n",
    "                enter_flag = True\n",
    "            if event.key == pg.K_RIGHT:\n",
    "                x += 1\n",
    "                enter_flag = True\n",
    "            if event.key == pg.K_UP:\n",
    "                y -= 1\n",
    "                enter_flag = True\n",
    "            if event.key == pg.K_DOWN:\n",
    "                y += 1\n",
    "                enter_flag = True\n",
    "            # enter number\n",
    "            if event.key == pg.K_1:\n",
    "                value = 1\n",
    "            if event.key == pg.K_2:\n",
    "                value = 2\n",
    "            if event.key == pg.K_3:\n",
    "                value = 3\n",
    "            if event.key == pg.K_4:\n",
    "                value = 4\n",
    "            if event.key == pg.K_5:\n",
    "                value = 5\n",
    "            if event.key == pg.K_6:\n",
    "                value = 6\n",
    "            if event.key == pg.K_7:\n",
    "                value = 7\n",
    "            if event.key == pg.K_8:\n",
    "                value = 8\n",
    "            if event.key == pg.K_9:\n",
    "                value = 9\n",
    "            # enter others\n",
    "            if event.key == pg.K_RETURN:\n",
    "                return_flag = True\n",
    "    if return_flag == True:\n",
    "        if can_solve(default_grid, 0, 0) == False:\n",
    "            error = 1\n",
    "        else:\n",
    "            result = 1\n",
    "        return_flag = False\n",
    "    if value != 0:\n",
    "        fill_value(value)\n",
    "        if detect_error(default_grid, int (x), int (y), value) == True:\n",
    "            default_grid[int(x)][int(y)] = value\n",
    "            enter_flag = False\n",
    "        else:\n",
    "            default_grid[int(x)][int(y)] = 0\n",
    "            raise_error()\n",
    "        value = 0\n",
    "    if error == 1:\n",
    "        raise_error()\n",
    "    if result == 1:\n",
    "        game_result()\n",
    "\n",
    "    draw_lines()\n",
    "    if enter_flag == True:\n",
    "        highlight_box()\n",
    "        \n",
    "    pg.display.update()\n",
    "\n",
    "pg.quit()\n"
   ]
  }
 ],
 "metadata": {
  "kernelspec": {
   "display_name": "myenv",
   "language": "python",
   "name": "python3"
  },
  "language_info": {
   "codemirror_mode": {
    "name": "ipython",
    "version": 3
   },
   "file_extension": ".py",
   "mimetype": "text/x-python",
   "name": "python",
   "nbconvert_exporter": "python",
   "pygments_lexer": "ipython3",
   "version": "3.9.16"
  }
 },
 "nbformat": 4,
 "nbformat_minor": 5
}
